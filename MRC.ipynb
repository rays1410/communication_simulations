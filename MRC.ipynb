{
 "cells": [
  {
   "cell_type": "markdown",
   "id": "4b744fbf-dc16-457b-9ec2-970f9a6110b9",
   "metadata": {},
   "source": [
    "Maximum ratio combining for several receive antenas. This is the optimal strategy to receive the signal in terms of the SNR"
   ]
  },
  {
   "cell_type": "code",
   "execution_count": 1,
   "id": "0983fb80-d972-41d4-9ed5-af7763ced36a",
   "metadata": {},
   "outputs": [],
   "source": [
    "import numpy as np\n",
    "import numpy.random\n",
    "import matplotlib.pyplot as plt\n",
    "from scipy import special as sp"
   ]
  },
  {
   "cell_type": "code",
   "execution_count": 2,
   "id": "332c0f9a-76fa-42d8-b4ae-0574570285df",
   "metadata": {},
   "outputs": [],
   "source": [
    "def get_h():\n",
    "    a = np.random.rayleigh(1/np.sqrt(2), 1)\n",
    "    phi = numpy.random.uniform(low=-np.pi, high=np.pi)\n",
    "    return a * np.exp(1j * phi)"
   ]
  },
  {
   "cell_type": "code",
   "execution_count": 3,
   "id": "66fb6168-6441-4f92-8cbe-9f3a648e18bd",
   "metadata": {},
   "outputs": [],
   "source": [
    "def QPSKmod(info_bits):\n",
    "    qpsk_dict = getQPSKSymbols();"
   ]
  },
  {
   "cell_type": "code",
   "execution_count": 4,
   "id": "1a4d4d4e-da3c-4d19-aaa7-4bfe424e2d54",
   "metadata": {},
   "outputs": [],
   "source": [
    "def getQPSKSymbols():\n",
    "    # The points on the unit circle\n",
    "    steps = [np.pi/4, 3*np.pi/4, -np.pi/4, -3*np.pi/4]\n",
    "    points = [np.exp(1j*x) for x in steps]\n",
    "    \n",
    "    # Possible QPSK combinations\n",
    "    bits = [(0,0), (0,1), (1,0), (1,1)]\n",
    "    \n",
    "    # Create the dict which maps bits to points, e.g (0,0) -> \n",
    "    constel = dict(zip(bits,points))\n",
    "    return constel"
   ]
  },
  {
   "cell_type": "code",
   "execution_count": 5,
   "id": "fdf3221f-1c10-446a-9d8a-8729657a4cd1",
   "metadata": {},
   "outputs": [],
   "source": [
    "def QPSKmod(bit_data):\n",
    "    # Calculate the number of QPSK symbols\n",
    "    # we assume that we do not need padding there\n",
    "    num_symbols = int(len(bit_data)/2)\n",
    "    \n",
    "    # Reshape data\n",
    "    shaped_data = bit_data.reshape(num_symbols,2)\n",
    "    \n",
    "    # Get QPSK constellation\n",
    "    constel = getQPSKSymbols()\n",
    "    \n",
    "    # For every row (two bits for QPSK) map the corresponding QPSK symbol\n",
    "    mod_data = [constel[tuple(x)] for x in shaped_data]\n",
    "    return mod_data"
   ]
  },
  {
   "cell_type": "markdown",
   "id": "fae1b212-05eb-4855-87f2-b1811e69a166",
   "metadata": {},
   "source": [
    "Here we check is the SNR based on MRC is optimal or not. This is should be proven more rigorously"
   ]
  },
  {
   "cell_type": "code",
   "execution_count": 17,
   "id": "ea836f10-2769-4dfc-a09c-79f8f57eab44",
   "metadata": {
    "tags": []
   },
   "outputs": [
    {
     "name": "stdout",
     "output_type": "stream",
     "text": [
      "3.9999999999999982\n",
      "[[3.96721311]]\n"
     ]
    }
   ],
   "source": [
    "# Noise conditions\n",
    "sigma = np.sqrt(1/2)\n",
    "\n",
    "# Signal power\n",
    "P = 1\n",
    "\n",
    "# Number of receive antenas\n",
    "nRx = 2\n",
    "\n",
    "# Info bits\n",
    "s = np.random.randint(0,2,(nRx,1))\n",
    "\n",
    "# QPSK modulation\n",
    "x = QPSKmod(s)\n",
    "\n",
    "# Noise vector\n",
    "n = sigma * (np.random.randn(nRx) + 1j*np.random.randn(nRx));\n",
    "\n",
    "# Get the channel matrix. Here we use 2 rRx antenas \n",
    "H = np.array([1/np.sqrt(2)+1j/np.sqrt(2), 1/np.sqrt(2)-1j/np.sqrt(2)],ndmin=2).T\n",
    "\n",
    "# The received vector\n",
    "y = np.array([np.dot(H,x)]).T + np.array([n]).T\n",
    "\n",
    "# MRC\n",
    "SNR_MRC = np.linalg.norm(H)**2 * P / sigma**2\n",
    "\n",
    "# Not MRC vector\n",
    "print(SNR_MRC)\n",
    "\n",
    "# Test not MRC vector. Subtract some delta from optimal vector and test it\n",
    "# We should see that SNR is not optimal now\n",
    "delta = 0.1\n",
    "W_MRC = H / np.linalg.norm(H)\n",
    "W = W_MRC + delta \n",
    "\n",
    "W_H = np.conj(W.T)\n",
    "SNR = (P*np.abs(np.matmul(W_H,H))**2)/(sigma**2 * np.linalg.norm(W)**2)\n",
    "print(SNR)\n"
   ]
  }
 ],
 "metadata": {
  "kernelspec": {
   "display_name": "Python 3 (ipykernel)",
   "language": "python",
   "name": "python3"
  },
  "language_info": {
   "codemirror_mode": {
    "name": "ipython",
    "version": 3
   },
   "file_extension": ".py",
   "mimetype": "text/x-python",
   "name": "python",
   "nbconvert_exporter": "python",
   "pygments_lexer": "ipython3",
   "version": "3.10.5"
  }
 },
 "nbformat": 4,
 "nbformat_minor": 5
}
